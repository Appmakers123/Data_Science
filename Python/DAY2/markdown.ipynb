{
 "cells": [
  {
   "cell_type": "markdown",
   "metadata": {},
   "source": [
    "# Title1\n",
    "## Title2\n",
    "## Title3\n",
    "* radio1\n",
    "* radio2\n",
    "<img src=\"https://lh3.googleusercontent.com/lzBQYMJguMnI5csTzKEflPKNgw5-zZpsL1c0r4qhdRRNHm2YkQTdM8MsmNJp7F-bHxuc=s128\" alt=\"Girl in a jacket\" width=\"500\" height=\"600\">"
   ]
  },
  {
   "cell_type": "code",
   "execution_count": null,
   "metadata": {},
   "outputs": [],
   "source": []
  }
 ],
 "metadata": {
  "kernelspec": {
   "display_name": "Python 3",
   "language": "python",
   "name": "python3"
  },
  "language_info": {
   "codemirror_mode": {
    "name": "ipython",
    "version": 3
   },
   "file_extension": ".py",
   "mimetype": "text/x-python",
   "name": "python",
   "nbconvert_exporter": "python",
   "pygments_lexer": "ipython3",
   "version": "3.7.6"
  }
 },
 "nbformat": 4,
 "nbformat_minor": 4
}
